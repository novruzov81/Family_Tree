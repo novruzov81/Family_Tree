{
  "nbformat": 4,
  "nbformat_minor": 0,
  "metadata": {
    "colab": {
      "provenance": [],
      "authorship_tag": "ABX9TyOH0rwA++UT/nJU8FOGLkNh",
      "include_colab_link": true
    },
    "kernelspec": {
      "name": "python3",
      "display_name": "Python 3"
    },
    "language_info": {
      "name": "python"
    }
  },
  "cells": [
    {
      "cell_type": "markdown",
      "metadata": {
        "id": "view-in-github",
        "colab_type": "text"
      },
      "source": [
        "<a href=\"https://colab.research.google.com/github/novruzov81/Family_Tree/blob/master/homework.ipynb\" target=\"_parent\"><img src=\"https://colab.research.google.com/assets/colab-badge.svg\" alt=\"Open In Colab\"/></a>"
      ]
    },
    {
      "cell_type": "markdown",
      "source": [
        "Условие 1: Задача 1  \n",
        "Постройте график  \n",
        "Назовите график  \n",
        "Сделайте именование оси x и оси y  \n",
        "Сделайте выводы  \n",
        "\n",
        "1.1. Скачать следующие данные: kc-house-data и laptop_price  \n",
        "1.2. Изучите стоимости недвижимости  \n",
        "1.3. Изучите распределение квадратуры жилой  \n",
        "1.4. Изучите распределение года постройки  "
      ],
      "metadata": {
        "id": "1hCtB05zCEW7"
      }
    },
    {
      "cell_type": "code",
      "source": [
        "import pandas as pd\n",
        "kc_house_data = pd.read_csv('kc_house_data.csv')"
      ],
      "metadata": {
        "id": "1p46tLh6lEYi"
      },
      "execution_count": null,
      "outputs": []
    },
    {
      "cell_type": "code",
      "source": [
        "average_price = kc_house_data['price'].mean()\n",
        "print(\"Средняя стоимость недвижимости:\", average_price)"
      ],
      "metadata": {
        "id": "qDflNn_FKGi5"
      },
      "execution_count": null,
      "outputs": []
    },
    {
      "cell_type": "code",
      "source": [
        "import matplotlib.pyplot as plt\n",
        "x_axis = kc_house_data['sq_ft_living']\n",
        "bins = [0, 500, 1000, 2000, 3000]\n",
        "plt.hist (x_axis, bins, facecolor='green', alpha=0.5)\n",
        "plt.title('Гистограмма жилой площади')\n",
        "plt.xlabel('Квадратура жилой')\n",
        "plt.ylabel('Количество объектов')\n",
        "plt.show()"
      ],
      "metadata": {
        "id": "Gcdj81JdLHea"
      },
      "execution_count": null,
      "outputs": []
    },
    {
      "cell_type": "code",
      "source": [
        "y_axis = kc_house_data['year_built']\n",
        "plt.bar(range(len(y_axis)), y_axis)\n",
        "plt.xticks(rotation=90)\n",
        "plt.title('Распределение года постройки')\n",
        "plt.xlabel('Год постройки')\n",
        "plt.ylabel('Количество домов')\n",
        "plt.tight_layout()\n",
        "plt.show()"
      ],
      "metadata": {
        "id": "okQQPbuhL3P1"
      },
      "execution_count": null,
      "outputs": []
    },
    {
      "cell_type": "markdown",
      "source": [
        "Условие 2: 2 задача  \n",
        "2.1. Изучите распределение домов от наличия вида на набережную  \n",
        "Постройте график  \n",
        "Сделайте выводы  \n",
        "2.2. Изучите распределение этажей домов  \n",
        "2.3. Изучите распределение состояния домов  "
      ],
      "metadata": {
        "id": "SpJrzkkCMNsx"
      }
    },
    {
      "cell_type": "code",
      "source": [
        "kc_house_data[\"view\"] = kc_house_data[\"lot_size\"] > 10000\n",
        "sns.scatterplot(x=\"view\", y=\"price\", data=kc_house_data)\n",
        "plt.show()\n",
        "import numpy as np\n",
        "import seaborn as sns\n",
        "import matplotlib.pyplot as plt\n",
        "\n",
        "data = pd.DataFrame({\"floors\":np.random.randint(1, 7, 100)})\n",
        "sns"
      ],
      "metadata": {
        "id": "7jReOxTjMP8c"
      },
      "execution_count": null,
      "outputs": []
    },
    {
      "cell_type": "markdown",
      "source": [
        "Условие 3: 3 задача  \n",
        "Исследуйте, какие характеристики недвижимости влияют на стоимость недвижимости,   с применением не менее 5 диаграмм из урока.  \n",
        "Анализ сделайте в формате storytelling: дополнить каждый график письменными\n",
        "  выводами и наблюдениями.  "
      ],
      "metadata": {
        "id": "3CYjkBI3O7zf"
      }
    },
    {
      "cell_type": "code",
      "source": [
        "from sklearn.linear_model import LinearRegression\n",
        "from sklearn import metrics\n",
        "\n",
        "kc_house_data = pd.read_csv(\"kc_house_data.csv\")\n",
        "X = kc_house_data[[\"bathrooms\", \"bedrooms\", \"sqft_living\", \"floors\", \"waterfront\"]]\n",
        "y = kc_house_data[\"price\"]\n",
        "\n",
        "model = LinearRegression()\n",
        "model.fit(X, y)"
      ],
      "metadata": {
        "id": "74rpqA4GONDf"
      },
      "execution_count": null,
      "outputs": []
    }
  ]
}